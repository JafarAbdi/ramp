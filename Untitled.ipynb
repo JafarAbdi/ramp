{
  "cells": [
    {
      "cell_type": "code",
      "execution_count": null,
      "id": "9e33aee2-c1d5-4448-ba56-ff2c1b484aa1",
      "metadata": {},
      "outputs": [],
      "source": [
        "import json\n",
        "import time\n",
        "\n",
        "import zmq\n",
        "from ramp.trajectory_smoothing import generate_time_optimal_trajectory_from_waypoints\n",
        "import numpy as np\n",
        "import toppra as ta\n",
        "import toppra.algorithm as algo\n",
        "from toppra import constraint\n",
        "\n",
        "ta.setup_logging(\"INFO\")"
      ]
    },
    {
      "cell_type": "code",
      "execution_count": 7,
      "id": "06abf119-43c3-47a1-986b-a40d36bb1ff1",
      "metadata": {},
      "outputs": [],
      "source": [
        "import numpy as np\n",
        "import matplotlib.pyplot as plt\n",
        "import matplotlib"
      ]
    },
    {
      "cell_type": "code",
      "execution_count": 10,
      "id": "cb1a4246-4887-42c3-98b1-02fa5e8aa07c",
      "metadata": {},
      "outputs": [],
      "source": [
        "%matplotlib widget"
      ]
    },
    {
      "cell_type": "code",
      "execution_count": 15,
      "id": "1ec3b384-e9ec-416f-a873-e98f729bc704",
      "metadata": {},
      "outputs": [],
      "source": [
        "\n",
        "\n",
        "################################################################################\n",
        "# Optionally, we can inspect the output.\n",
        "# instance.compute_feasible_sets()\n",
        "# instance.inspect()"
      ]
    },
    {
      "cell_type": "code",
      "execution_count": 52,
      "id": "1b2a9132-16ca-40cb-b194-98a5e804f99e",
      "metadata": {},
      "outputs": [],
      "source": [
        "from ipywidgets import AppLayout, FloatSlider, Output, VBox\n",
        "import matplotlib.pyplot as plt\n",
        "import numpy as np\n",
        "\n",
        "# Generate trajectory once\n",
        "def generate_new_problem(seed=9):\n",
        "    N_samples = 5\n",
        "    dof = 7\n",
        "    np.random.seed(seed)\n",
        "    way_pts = np.random.randn(N_samples, dof)\n",
        "    return (\n",
        "        np.linspace(0, 1, N_samples),\n",
        "        way_pts,\n",
        "        10 + np.random.rand(dof) * 20,\n",
        "        10 + np.random.rand(dof) * 2,\n",
        "    )\n",
        "\n",
        "ss, way_pts, vlims, alims = generate_new_problem()"
      ]
    },
    {
      "cell_type": "code",
      "execution_count": 90,
      "id": "6c339191-36cf-42aa-8534-322b43354935",
      "metadata": {},
      "outputs": [
        {
          "name": "stderr",
          "output_type": "stream",
          "text": [
            " INFO [algorithm.py : 104] No gridpoint specified. Automatically choose a gridpoint with 290 points\n",
            " INFO [reachability_algorithm.py : 65] Solver wrapper not supplied. Choose solver wrapper automatically!\n",
            " INFO [reachability_algorithm.py : 75] Select solver seidel\n",
            " INFO [algorithm.py : 191] Successfully parametrize path. Duration: 3.525, previously 1.000)\n",
            " INFO [algorithm.py : 193] Finish parametrization in 0.003 secs\n"
          ]
        }
      ],
      "source": [
        "path = ta.SplineInterpolator(ss, way_pts)\n",
        "pc_vel = constraint.JointVelocityConstraint(vlims)\n",
        "pc_acc = constraint.JointAccelerationConstraint(alims)\n",
        "instance = algo.TOPPRA([pc_vel, pc_acc], path, parametrizer=\"ParametrizeConstAccel\")\n",
        "jnt_traj = instance.compute_trajectory()\n",
        "resample_dt = 0.1\n",
        "# Sample the full trajectory\n",
        "ts_sample = np.append(np.arrange(0.0, duration, resample_dt), duration)\n",
        "qs_sample = jnt_traj(ts_sample)\n",
        "qds_sample = jnt_traj(ts_sample, 1)\n",
        "qdds_sample = jnt_traj(ts_sample, 2)"
      ]
    },
    {
      "cell_type": "code",
      "execution_count": 91,
      "id": "9c4a28de-2ec1-4f8b-957d-75cb0c322810",
      "metadata": {},
      "outputs": [],
      "source": [
        "def visualize_trajectory(ts, qs, dqs, ddqs = None):\n",
        "    assert len(qs[0]) == len(dqs[0])\n",
        "    dof = len(qs[0])\n",
        "    if ddqs is None:\n",
        "        ddqs = np.zeros((len(ts), dof))\n",
        "    assert dof == len(ddqs[0])\n",
        "    \n",
        "    duration = ts[-1]\n",
        "    plt.ioff()\n",
        "    \n",
        "    # Create time slider\n",
        "    time_slider = FloatSlider(\n",
        "        orientation='horizontal',\n",
        "        description='Time (s):',\n",
        "        value=0.0,\n",
        "        min=0.0,\n",
        "        max=duration,\n",
        "        step=duration/100,\n",
        "        readout_format='.3f'\n",
        "    )\n",
        "    time_slider.layout.margin = '0px 20% 0px 20%'\n",
        "    time_slider.layout.width = '60%'\n",
        "    \n",
        "    # Create output for values\n",
        "    values_output = Output(layout={'border': '1px solid black', 'padding': '10px', 'height': '250px', 'overflow': 'auto'})\n",
        "    \n",
        "    # Create figure\n",
        "    fig, axs = plt.subplots(3, 1, sharex=True, figsize=(10, 8))\n",
        "    fig.canvas.header_visible = False\n",
        "    fig.canvas.layout.min_height = '250x'\n",
        "\n",
        "    # Plot full trajectory\n",
        "    for i in range(dof):\n",
        "        axs[0].plot(ts, qs[:, i], c=\"C{:d}\".format(i), label=f'Joint {i}')\n",
        "        axs[1].plot(ts, dqs[:, i], c=\"C{:d}\".format(i), label=f'Joint {i}')\n",
        "        axs[2].plot(ts, ddqs[:, i], c=\"C{:d}\".format(i), label=f'Joint {i}')\n",
        "    \n",
        "    # Add vertical line for current time\n",
        "    time_line_pos = axs[0].axvline(x=0, color='red', linestyle='--', linewidth=2, alpha=0.7)\n",
        "    time_line_vel = axs[1].axvline(x=0, color='red', linestyle='--', linewidth=2, alpha=0.7)\n",
        "    time_line_acc = axs[2].axvline(x=0, color='red', linestyle='--', linewidth=2, alpha=0.7)\n",
        "    \n",
        "    axs[2].set_xlabel(\"Time (s)\")\n",
        "    axs[0].set_ylabel(\"Position (rad)\")\n",
        "    axs[1].set_ylabel(\"Velocity (rad/s)\")\n",
        "    axs[2].set_ylabel(\"Acceleration (rad/s\u00b2)\")\n",
        "    axs[0].legend()\n",
        "    axs[1].legend()\n",
        "    axs[2].legend()\n",
        "    axs[0].grid(True, alpha=0.3)\n",
        "    axs[1].grid(True, alpha=0.3)\n",
        "    axs[2].grid(True, alpha=0.3)\n",
        "    \n",
        "    def update_values(change):\n",
        "        current_time = change.new\n",
        "        \n",
        "        # Find the closest index in the pre-sampled data\n",
        "        time_idx = np.argmin(np.abs(ts - current_time))\n",
        "        actual_time = ts[time_idx]\n",
        "\n",
        "        # Update vertical line position\n",
        "        time_line_pos.set_xdata([actual_time])\n",
        "        time_line_vel.set_xdata([actual_time])\n",
        "        time_line_acc.set_xdata([actual_time])\n",
        "        \n",
        "        # Get values at current time\n",
        "        current_pos = qs[time_idx]\n",
        "        current_vel = dqs[time_idx]\n",
        "        current_acc = ddqs[time_idx]\n",
        "        \n",
        "        # Update plot\n",
        "        fig.canvas.draw()\n",
        "        fig.canvas.flush_events()\n",
        "        \n",
        "        # Display values in a clean format\n",
        "        values_output.clear_output()\n",
        "        with values_output:\n",
        "            print(f\"\ud83d\udd50 Time: {current_time:.3f} seconds\\n\")\n",
        "            \n",
        "            # Show values in table format - all values per joint on one line\n",
        "            print(\"Joint |   Position  |   Velocity  | Acceleration\")\n",
        "            print(\"------|-------------|-------------|-------------\")\n",
        "            for i in range(dof):\n",
        "                print(f\"  J{i}  |   {current_pos[i]:7.3f}   |   {current_vel[i]:7.3f}   |    {current_acc[i]:7.3f}\")\n",
        "    \n",
        "    # Connect slider to update function\n",
        "    time_slider.observe(update_values, names='value')\n",
        "    \n",
        "    # Layout - put values below the slider\n",
        "    footer_box = VBox([time_slider, values_output])\n",
        "    \n",
        "    return AppLayout(\n",
        "        center=fig.canvas,\n",
        "        footer=footer_box,\n",
        "        pane_heights=[0, 3, 2]\n",
        "    )"
      ]
    },
    {
      "cell_type": "code",
      "execution_count": 92,
      "id": "f188c899-1e98-42be-ae8a-f60aaa556c92",
      "metadata": {},
      "outputs": [
        {
          "data": {
            "application/vnd.jupyter.widget-view+json": {
              "model_id": "df38e321dc854057852d784a6c21ba54",
              "version_major": 2,
              "version_minor": 0
            },
            "text/plain": [
              "AppLayout(children=(VBox(children=(FloatSlider(value=0.0, description='Time (s):', layout=Layout(margin='0px 2\u2026"
            ]
          },
          "execution_count": 92,
          "metadata": {},
          "output_type": "execute_result"
        }
      ],
      "source": [
        "visualize_trajectory(ts_sample, qs_sample, qds_sample, qdds_sample)"
      ]
    },
    {
      "cell_type": "code",
      "execution_count": 93,
      "id": "d33d7a6d-1246-411c-85f4-bf862ce5b2d9",
      "metadata": {},
      "outputs": [
        {
          "name": "stdout",
          "output_type": "stream",
          "text": [
            "Time taken to generate TOTG trajectory: 0.0014 sec\n",
            "Found time-optimal trajectory using TOTG with duration 3.63 sec\n"
          ]
        }
      ],
      "source": [
        "start_time = time.monotonic()\n",
        "trajectory, duration = generate_time_optimal_trajectory_from_waypoints(\n",
        "    way_pts, vlims, alims, return_velocity=True\n",
        ")\n",
        "print(f\"Time taken to generate TOTG trajectory: {time.monotonic() - start_time:.4f} sec\")\n",
        "print(f\"Found time-optimal trajectory using TOTG with duration {duration:.2f} sec\")"
      ]
    },
    {
      "cell_type": "code",
      "execution_count": 94,
      "id": "7ce6e7ab-c432-46bf-ba95-75d7f94fca9d",
      "metadata": {},
      "outputs": [],
      "source": [
        "ts = []\n",
        "qs = []\n",
        "dqs = []\n",
        "for (q, dq, t) in trajectory:\n",
        "    qs.append(q)\n",
        "    dqs.append(dq)\n",
        "    ts.append(t)\n",
        "ts = np.hstack(ts)\n",
        "qs = np.stack(qs, axis=0)\n",
        "dqs= np.stack(dqs, axis=0)"
      ]
    },
    {
      "cell_type": "code",
      "execution_count": 95,
      "id": "edfc6554-5490-4051-b42a-36a9c27c799c",
      "metadata": {},
      "outputs": [
        {
          "data": {
            "application/vnd.jupyter.widget-view+json": {
              "model_id": "3c756f7ce2e74041a1a701b65d1f7e2f",
              "version_major": 2,
              "version_minor": 0
            },
            "text/plain": [
              "AppLayout(children=(VBox(children=(FloatSlider(value=0.0, description='Time (s):', layout=Layout(margin='0px 2\u2026"
            ]
          },
          "execution_count": 95,
          "metadata": {},
          "output_type": "execute_result"
        }
      ],
      "source": [
        "visualize_trajectory(ts, qs, dqs)"
      ]
    }
  ],
  "metadata": {
    "kernelspec": {
      "display_name": "Python 3 (ipykernel)",
      "language": "python",
      "name": "python3"
    },
    "language_info": {
      "codemirror_mode": {
        "name": "ipython",
        "version": 3
      },
      "file_extension": ".py",
      "mimetype": "text/x-python",
      "name": "python",
      "nbconvert_exporter": "python",
      "pygments_lexer": "ipython3",
      "version": "3.11.0"
    }
  },
  "nbformat": 4,
  "nbformat_minor": 5
}
