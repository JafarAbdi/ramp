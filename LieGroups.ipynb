{
 "cells": [
  {
   "cell_type": "code",
   "execution_count": 1,
   "id": "f5c8d468-b6a1-46d0-a39b-287c7be174fa",
   "metadata": {},
   "outputs": [],
   "source": [
    "import pinocchio\n",
    "import numpy as np\n",
    "from ramp.robot_model import load_robot_model\n",
    "from ramp.robot_state import RobotState\n",
    "import pathlib\n",
    "\n",
    "# Set print options\n",
    "np.set_printoptions(\n",
    "    precision=3,        # Number of decimal places\n",
    "    suppress=True,      # Suppress scientific notation\n",
    "    linewidth=100,      # Characters per line\n",
    "    threshold=50        # Show all elements if array size < threshold\n",
    ")"
   ]
  },
  {
   "cell_type": "code",
   "execution_count": 2,
   "id": "a6c6e381-56f9-40f6-9caf-4b2ed0689443",
   "metadata": {},
   "outputs": [],
   "source": [
    "tcp = \"panda_hand_tcp\""
   ]
  },
  {
   "cell_type": "code",
   "execution_count": 3,
   "id": "bbffd7d6-e64c-4062-9213-f8adc4acd829",
   "metadata": {},
   "outputs": [],
   "source": [
    "rm = load_robot_model(pathlib.Path(\"robots/panda/configs.toml\"))"
   ]
  },
  {
   "cell_type": "code",
   "execution_count": 4,
   "id": "4bb4ee68-7349-4278-ac04-f4076ca08b55",
   "metadata": {},
   "outputs": [],
   "source": [
    "rs = RobotState.from_random(rm)"
   ]
  },
  {
   "cell_type": "code",
   "execution_count": 5,
   "id": "2b71aa55-f3ef-422c-a388-f308e29b6409",
   "metadata": {},
   "outputs": [],
   "source": [
    "J_local = rs.jacobian(tcp, pinocchio.ReferenceFrame.LOCAL)"
   ]
  },
  {
   "cell_type": "code",
   "execution_count": 6,
   "id": "53a610e7-882f-4bca-bdf8-5a132c19bd26",
   "metadata": {},
   "outputs": [],
   "source": [
    "J_lwa = rs.jacobian(tcp, pinocchio.ReferenceFrame.LOCAL_WORLD_ALIGNED)"
   ]
  },
  {
   "cell_type": "code",
   "execution_count": 7,
   "id": "9b7c5143-5c6d-4463-9da2-eeb7ebaf2d47",
   "metadata": {},
   "outputs": [],
   "source": [
    "J_world = rs.jacobian(tcp, pinocchio.ReferenceFrame.WORLD)"
   ]
  },
  {
   "cell_type": "code",
   "execution_count": 8,
   "id": "d6158d57-b026-46dc-afcc-836d644d4037",
   "metadata": {},
   "outputs": [
    {
     "data": {
      "text/plain": [
       "array([[ 0.   , -0.256, -0.195, ...,  0.311,  0.   ,  0.   ],\n",
       "       [ 0.   , -0.213,  0.235, ...,  0.166,  0.   ,  0.   ],\n",
       "       [ 0.   ,  0.   ,  0.   , ..., -0.155,  0.   ,  0.   ],\n",
       "       [ 0.   , -0.639,  0.706, ..., -0.018,  0.   ,  0.   ],\n",
       "       [ 0.   ,  0.769,  0.586, ..., -0.664,  0.   ,  0.   ],\n",
       "       [ 1.   ,  0.   ,  0.397, ..., -0.748,  0.   ,  0.   ]], shape=(6, 9))"
      ]
     },
     "execution_count": 8,
     "metadata": {},
     "output_type": "execute_result"
    }
   ],
   "source": [
    "# LOCAL -> WORLD\n",
    "rs.get_frame_pose(tcp).toActionMatrix() @ J_local"
   ]
  },
  {
   "cell_type": "code",
   "execution_count": 9,
   "id": "3f34d130-95f9-4efa-95fd-e5eeb409c545",
   "metadata": {},
   "outputs": [
    {
     "data": {
      "text/plain": [
       "array([[-0.024,  0.048, -0.388, ...,  0.   ,  0.   ,  0.   ],\n",
       "       [-0.358,  0.21 , -0.169, ...,  0.   ,  0.   ,  0.   ],\n",
       "       [-0.155,  0.075,  0.102, ...,  0.   ,  0.   ,  0.   ],\n",
       "       [ 0.601, -0.789,  0.123, ...,  0.   ,  0.   ,  0.   ],\n",
       "       [ 0.283,  0.358, -0.704, ...,  0.   ,  0.   ,  0.   ],\n",
       "       [-0.748, -0.499, -0.699, ...,  1.   ,  0.   ,  0.   ]], shape=(6, 9))"
      ]
     },
     "execution_count": 9,
     "metadata": {},
     "output_type": "execute_result"
    }
   ],
   "source": [
    "J_local"
   ]
  },
  {
   "cell_type": "code",
   "execution_count": 19,
   "id": "cd526b1f-d0d3-40c8-8769-8bd7dae5f3d1",
   "metadata": {},
   "outputs": [
    {
     "data": {
      "text/plain": [
       "array([[ 0.   , -0.256, -0.195, ...,  0.311,  0.   ,  0.   ],\n",
       "       [ 0.   , -0.213,  0.235, ...,  0.166,  0.   ,  0.   ],\n",
       "       [ 0.   ,  0.   ,  0.   , ..., -0.155,  0.   ,  0.   ],\n",
       "       [ 0.   , -0.639,  0.706, ..., -0.018,  0.   ,  0.   ],\n",
       "       [ 0.   ,  0.769,  0.586, ..., -0.664,  0.   ,  0.   ],\n",
       "       [ 1.   ,  0.   ,  0.397, ..., -0.748,  0.   ,  0.   ]], shape=(6, 9))"
      ]
     },
     "execution_count": 19,
     "metadata": {},
     "output_type": "execute_result"
    }
   ],
   "source": [
    "J_world"
   ]
  },
  {
   "cell_type": "code",
   "execution_count": 11,
   "id": "457da4b5-54ee-42bb-a909-a7371becf704",
   "metadata": {},
   "outputs": [
    {
     "data": {
      "text/plain": [
       "array([[-0.024,  0.048, -0.388, ...,  0.   ,  0.   ,  0.   ],\n",
       "       [-0.358,  0.21 , -0.169, ..., -0.   ,  0.   ,  0.   ],\n",
       "       [-0.155,  0.075,  0.102, ..., -0.   ,  0.   ,  0.   ],\n",
       "       [ 0.601, -0.789,  0.123, ...,  0.   ,  0.   ,  0.   ],\n",
       "       [ 0.283,  0.358, -0.704, ...,  0.   ,  0.   ,  0.   ],\n",
       "       [-0.748, -0.499, -0.699, ...,  1.   ,  0.   ,  0.   ]], shape=(6, 9))"
      ]
     },
     "execution_count": 11,
     "metadata": {},
     "output_type": "execute_result"
    }
   ],
   "source": [
    "# WORLD -> LOCAL\n",
    "rs.get_frame_pose(tcp).inverse().toActionMatrix() @ J_world\n",
    "# W_tcp_B => B_tcp_W => Adj"
   ]
  },
  {
   "cell_type": "code",
   "execution_count": 12,
   "id": "cec01119-11f7-4dca-a802-e2d8963fa740",
   "metadata": {},
   "outputs": [
    {
     "data": {
      "text/plain": [
       "array([[ 0.32 , -0.174, -0.005, ...,  0.   ,  0.   ,  0.   ],\n",
       "       [ 0.224, -0.144,  0.249, ..., -0.   ,  0.   ,  0.   ],\n",
       "       [-0.   ,  0.032, -0.358, ...,  0.   ,  0.   ,  0.   ],\n",
       "       [ 0.   , -0.639,  0.706, ..., -0.018,  0.   ,  0.   ],\n",
       "       [ 0.   ,  0.769,  0.586, ..., -0.664,  0.   ,  0.   ],\n",
       "       [ 1.   ,  0.   ,  0.397, ..., -0.748,  0.   ,  0.   ]], shape=(6, 9))"
      ]
     },
     "execution_count": 12,
     "metadata": {},
     "output_type": "execute_result"
    }
   ],
   "source": [
    "J_lwa"
   ]
  },
  {
   "cell_type": "code",
   "execution_count": 16,
   "id": "a4467ed5-38e8-4468-88d1-763c565266f9",
   "metadata": {},
   "outputs": [
    {
     "data": {
      "text/plain": [
       "array([[-0.024,  0.048, -0.388, ...,  0.   ,  0.   ,  0.   ],\n",
       "       [-0.358,  0.21 , -0.169, ..., -0.   ,  0.   ,  0.   ],\n",
       "       [-0.155,  0.075,  0.102, ...,  0.   ,  0.   ,  0.   ],\n",
       "       [ 0.601, -0.789,  0.123, ...,  0.   ,  0.   ,  0.   ],\n",
       "       [ 0.283,  0.358, -0.704, ...,  0.   ,  0.   ,  0.   ],\n",
       "       [-0.748, -0.499, -0.699, ...,  1.   ,  0.   ,  0.   ]], shape=(6, 9))"
      ]
     },
     "execution_count": 16,
     "metadata": {},
     "output_type": "execute_result"
    }
   ],
   "source": [
    "# LOCAL_WORLD_ALIGNED -> LOCAL\n",
    "b_R_w = rs.get_frame_pose(tcp).rotation.T\n",
    "np.vstack([b_R_w @ J_lwa[:3, :], b_R_w @ J_lwa[3:, :]]) \n",
    "# w_R_b => b_R_w"
   ]
  },
  {
   "cell_type": "code",
   "execution_count": 68,
   "id": "39c914cf-4fa4-4831-8004-a7fa68676c9a",
   "metadata": {},
   "outputs": [
    {
     "data": {
      "text/plain": [
       "array([[ 0.32 , -0.174, -0.005, ...,  0.   ,  0.   ,  0.   ],\n",
       "       [ 0.224, -0.144,  0.249, ...,  0.   ,  0.   ,  0.   ],\n",
       "       [ 0.   ,  0.032, -0.358, ...,  0.   ,  0.   ,  0.   ],\n",
       "       [ 0.   , -0.639,  0.706, ..., -0.018,  0.   ,  0.   ],\n",
       "       [ 0.   ,  0.769,  0.586, ..., -0.664,  0.   ,  0.   ],\n",
       "       [ 1.   ,  0.   ,  0.397, ..., -0.748,  0.   ,  0.   ]], shape=(6, 9))"
      ]
     },
     "execution_count": 68,
     "metadata": {},
     "output_type": "execute_result"
    }
   ],
   "source": [
    "# LOCAL -> LOCAL_WORLD_ALIGNED\n",
    "pose = rs.get_frame_pose(tcp)\n",
    "pose.translation = np.zeros(3)\n",
    "np.vstack([rs.get_frame_pose(tcp).rotation @ J_local[:3, :], rs.get_frame_pose(tcp).rotation @ J_local[3:, :]]) # Or\n",
    "pose.toActionMatrix() @ J_local"
   ]
  },
  {
   "cell_type": "code",
   "execution_count": 69,
   "id": "5396fbaf-47c3-4633-b73d-0b25e63756e4",
   "metadata": {},
   "outputs": [
    {
     "data": {
      "text/plain": [
       "array([[ 0.32 , -0.174, -0.005, ...,  0.   ,  0.   ,  0.   ],\n",
       "       [ 0.224, -0.144,  0.249, ..., -0.   ,  0.   ,  0.   ],\n",
       "       [ 0.   ,  0.032, -0.358, ..., -0.   ,  0.   ,  0.   ],\n",
       "       [ 0.   , -0.639,  0.706, ..., -0.018,  0.   ,  0.   ],\n",
       "       [ 0.   ,  0.769,  0.586, ..., -0.664,  0.   ,  0.   ],\n",
       "       [ 1.   ,  0.   ,  0.397, ..., -0.748,  0.   ,  0.   ]], shape=(6, 9))"
      ]
     },
     "execution_count": 69,
     "metadata": {},
     "output_type": "execute_result"
    }
   ],
   "source": [
    "# WORLD -> LOCAL_WORLD_ALIGNED\n",
    "pose = rs.get_frame_pose(tcp)\n",
    "pose.rotation = np.eye(3)\n",
    "np.block([[      np.eye(3), -pinocchio.skew(rs.get_frame_pose(tcp).translation)],\n",
    "          [np.zeros((3, 3)),                                          np.eye(3)]]) @ J_world # Or\n",
    "pose.inverse().toActionMatrix() @ J_world"
   ]
  },
  {
   "cell_type": "code",
   "execution_count": 30,
   "id": "611c9cd9-80a3-4f8f-8e1e-a001dbb0f1bb",
   "metadata": {},
   "outputs": [
    {
     "data": {
      "text/plain": [
       "array([[ 0.   , -0.256, -0.195, ...,  0.311,  0.   ,  0.   ],\n",
       "       [ 0.   , -0.213,  0.235, ...,  0.166,  0.   ,  0.   ],\n",
       "       [ 0.   , -0.   ,  0.   , ..., -0.155,  0.   ,  0.   ],\n",
       "       [ 0.   , -0.639,  0.706, ..., -0.018,  0.   ,  0.   ],\n",
       "       [ 0.   ,  0.769,  0.586, ..., -0.664,  0.   ,  0.   ],\n",
       "       [ 1.   ,  0.   ,  0.397, ..., -0.748,  0.   ,  0.   ]], shape=(6, 9))"
      ]
     },
     "execution_count": 30,
     "metadata": {},
     "output_type": "execute_result"
    }
   ],
   "source": [
    "# LOCAL_WORLD_ALIGNED -> WORLD\n",
    "tcp_pose = rs.get_frame_pose(tcp)\n",
    "# First convert to LOCAL, then to WORLD\n",
    "# R = I\n",
    "J_local_from_lwa = np.vstack([tcp_pose.rotation.T @ J_lwa[:3, :], \n",
    "                              tcp_pose.rotation.T @ J_lwa[3:, :]])\n",
    "tcp_pose.toActionMatrix() @ J_local_from_lwa # Or\n",
    "np.block([[      np.eye(3), pinocchio.skew(tcp_pose.translation)],\n",
    "          [np.zeros((3, 3)),                           np.eye(3)]]) @ J_lwa"
   ]
  },
  {
   "cell_type": "code",
   "execution_count": 2,
   "id": "abf9548b-d808-4a79-92b5-4ba786a03e15",
   "metadata": {},
   "outputs": [],
   "source": [
    "# Twists are elements of the Lie algebra se(3) which is the tangent space of the special Euclidean group SE(3) of rigid body transformations.\n",
    "# Angular velocities are themselves elements of the Lie algebra so(3), which is the tangent space of the special orthogonal group SO(3) of orientations.\n",
    "# We can integrate twists into transformations via the exponential map, which generalizes both the integration of linear velocities into positions and of angular velocities into orientations. \n",
    "X = pinocchio.SE3.Random()\n",
    "twist = pinocchio.Motion.Random()"
   ]
  },
  {
   "cell_type": "code",
   "execution_count": 17,
   "id": "1f551b48-88dc-4ba1-a97a-a8c40a0139b9",
   "metadata": {},
   "outputs": [
    {
     "data": {
      "text/plain": [
       "array([[ 0.   ,  0.514, -0.967,  0.271],\n",
       "       [-0.514,  0.   , -0.214,  0.435],\n",
       "       [ 0.967,  0.214,  0.   , -0.717],\n",
       "       [ 0.   ,  0.   ,  0.   ,  0.   ]])"
      ]
     },
     "execution_count": 17,
     "metadata": {},
     "output_type": "execute_result"
    }
   ],
   "source": [
    "twist.homogeneous"
   ]
  },
  {
   "cell_type": "code",
   "execution_count": 13,
   "id": "250778d7-365a-49c5-a6bc-423a2da9c7f2",
   "metadata": {},
   "outputs": [
    {
     "data": {
      "text/plain": [
       "array([[ 0.   , -1.092, -1.242,  0.   ,  0.053,  1.069],\n",
       "       [ 1.092,  0.   , -1.194, -0.053,  0.   , -1.008],\n",
       "       [ 1.242,  1.194,  0.   , -1.069,  1.008,  0.   ],\n",
       "       [ 0.   ,  0.   ,  0.   ,  0.   , -1.092, -1.242],\n",
       "       [ 0.   ,  0.   ,  0.   ,  1.092,  0.   , -1.194],\n",
       "       [ 0.   ,  0.   ,  0.   ,  1.242,  1.194,  0.   ]])"
      ]
     },
     "execution_count": 13,
     "metadata": {},
     "output_type": "execute_result"
    }
   ],
   "source": [
    "pinocchio.log6(X).action"
   ]
  },
  {
   "cell_type": "code",
   "execution_count": 14,
   "id": "96d869f0-1b3b-4392-bfcc-da563fa5fdc0",
   "metadata": {},
   "outputs": [
    {
     "data": {
      "text/plain": [
       "array([[ 0.045, -0.995, -0.088,  0.936, -0.028,  0.796],\n",
       "       [-0.04 ,  0.087, -0.995,  0.011, -0.83 , -0.073],\n",
       "       [ 0.998,  0.049, -0.036, -0.042,  0.902,  0.053],\n",
       "       [ 0.   ,  0.   ,  0.   ,  0.045, -0.995, -0.088],\n",
       "       [ 0.   ,  0.   ,  0.   , -0.04 ,  0.087, -0.995],\n",
       "       [ 0.   ,  0.   ,  0.   ,  0.998,  0.049, -0.036]])"
      ]
     },
     "execution_count": 14,
     "metadata": {},
     "output_type": "execute_result"
    }
   ],
   "source": [
    "X.action"
   ]
  },
  {
   "cell_type": "code",
   "execution_count": 35,
   "id": "38349baa-a837-4bd9-a971-80725bf488cd",
   "metadata": {},
   "outputs": [
    {
     "data": {
      "text/plain": [
       "array([ 1.008,  1.069, -0.053,  1.194, -1.242,  1.092])"
      ]
     },
     "execution_count": 35,
     "metadata": {},
     "output_type": "execute_result"
    }
   ],
   "source": [
    "# From manifold (SE3) to tangent space (Motion)\n",
    "pinocchio.log6(X).vector # Log(X) = log(X)v (vee)"
   ]
  },
  {
   "cell_type": "code",
   "execution_count": 36,
   "id": "f9a977cc-af68-4d08-a185-f7ef6492250d",
   "metadata": {},
   "outputs": [
    {
     "data": {
      "text/plain": [
       "SE3(array([[ 0.46 ,  0.321, -0.828,  0.631],[-0.507,  0.86 ,  0.052,  0.355],[ 0.729,  0.396,  0.558, -0.417],[ 0.   ,  0.   ,  0.   ,  1.   ]]))"
      ]
     },
     "execution_count": 36,
     "metadata": {},
     "output_type": "execute_result"
    }
   ],
   "source": [
    "# From tangent space (Motion) to manifold (SE3)\n",
    "# integrate twists into transformations\n",
    "pinocchio.exp6(twist) # Exp(theta) = exp(theta^)"
   ]
  },
  {
   "cell_type": "code",
   "execution_count": 37,
   "id": "1fb96a36-94db-4482-ac36-e0c8b8f8652f",
   "metadata": {},
   "outputs": [
    {
     "data": {
      "text/plain": [
       "array([[ 0.   ,  0.514, -0.967,  0.271],\n",
       "       [-0.514,  0.   , -0.214,  0.435],\n",
       "       [ 0.967,  0.214,  0.   , -0.717],\n",
       "       [ 0.   ,  0.   ,  0.   ,  0.   ]])"
      ]
     },
     "execution_count": 37,
     "metadata": {},
     "output_type": "execute_result"
    }
   ],
   "source": [
    "thetahat = twist.homogeneous # theta^\n",
    "thetahat"
   ]
  },
  {
   "cell_type": "code",
   "execution_count": 21,
   "id": "b2951e1d-45a3-4d7b-94b6-46b19b71a4dc",
   "metadata": {},
   "outputs": [
    {
     "data": {
      "text/plain": [
       "array([[ 0.   ,  0.514, -0.967],\n",
       "       [-0.514,  0.   , -0.214],\n",
       "       [ 0.967,  0.214,  0.   ]])"
      ]
     },
     "execution_count": 21,
     "metadata": {},
     "output_type": "execute_result"
    }
   ],
   "source": [
    "pinocchio.skew(twist.angular)"
   ]
  },
  {
   "cell_type": "code",
   "execution_count": 18,
   "id": "4e7985ed-2394-43c1-a102-ca8b75c3b39c",
   "metadata": {},
   "outputs": [
    {
     "data": {
      "text/plain": [
       "array([[ 0.812, -0.264,  0.418,  0.016, -0.349, -0.242],\n",
       "       [ 0.199,  0.951,  0.174,  0.296, -0.134,  0.196],\n",
       "       [-0.453, -0.018,  0.846,  0.15 , -0.049,  0.114],\n",
       "       [ 0.   ,  0.   ,  0.   ,  0.812, -0.264,  0.418],\n",
       "       [ 0.   ,  0.   ,  0.   ,  0.199,  0.951,  0.174],\n",
       "       [ 0.   ,  0.   ,  0.   , -0.453, -0.018,  0.846]])"
      ]
     },
     "execution_count": 18,
     "metadata": {},
     "output_type": "execute_result"
    }
   ],
   "source": [
    "pinocchio.Jexp6(twist)"
   ]
  },
  {
   "cell_type": "code",
   "execution_count": 28,
   "id": "f53ee708-c35f-4703-891f-0ed8e055232e",
   "metadata": {},
   "outputs": [
    {
     "data": {
      "text/plain": [
       "array([[ 0.045, -0.995, -0.088,  0.936, -0.028,  0.796],\n",
       "       [-0.04 ,  0.087, -0.995,  0.011, -0.83 , -0.073],\n",
       "       [ 0.998,  0.049, -0.036, -0.042,  0.902,  0.053],\n",
       "       [ 0.   ,  0.   ,  0.   ,  0.045, -0.995, -0.088],\n",
       "       [ 0.   ,  0.   ,  0.   , -0.04 ,  0.087, -0.995],\n",
       "       [ 0.   ,  0.   ,  0.   ,  0.998,  0.049, -0.036]])"
      ]
     },
     "execution_count": 28,
     "metadata": {},
     "output_type": "execute_result"
    }
   ],
   "source": [
    "X.action # Adjoint matrix of SE3. See example 6"
   ]
  },
  {
   "cell_type": "code",
   "execution_count": 32,
   "id": "0e2d4982-a5fb-4269-a91f-1e6ce710770c",
   "metadata": {},
   "outputs": [
    {
     "data": {
      "text/plain": [
       "array([[ 0.045, -0.995, -0.088,  0.936, -0.028,  0.796],\n",
       "       [-0.04 ,  0.087, -0.995,  0.011, -0.83 , -0.073],\n",
       "       [ 0.998,  0.049, -0.036, -0.042,  0.902,  0.053],\n",
       "       [ 0.   ,  0.   ,  0.   ,  0.045, -0.995, -0.088],\n",
       "       [ 0.   ,  0.   ,  0.   , -0.04 ,  0.087, -0.995],\n",
       "       [ 0.   ,  0.   ,  0.   ,  0.998,  0.049, -0.036]])"
      ]
     },
     "execution_count": 32,
     "metadata": {},
     "output_type": "execute_result"
    }
   ],
   "source": [
    "np.block([[      X.rotation, pinocchio.skew(X.translation) @ X.rotation],\n",
    "          [np.zeros((3, 3)),                                 X.rotation]])"
   ]
  },
  {
   "cell_type": "code",
   "execution_count": 30,
   "id": "d4850d6f-4f8f-4e87-baa6-eabfc3b372f8",
   "metadata": {},
   "outputs": [
    {
     "data": {
      "text/plain": [
       "array([[ 0.936, -0.028,  0.796],\n",
       "       [ 0.011, -0.83 , -0.073],\n",
       "       [-0.042,  0.902,  0.053]])"
      ]
     },
     "execution_count": 30,
     "metadata": {},
     "output_type": "execute_result"
    }
   ],
   "source": [
    "pinocchio.skew(X.translation) @ X.rotation"
   ]
  },
  {
   "cell_type": "code",
   "execution_count": 33,
   "id": "de3a607b-3c26-4b91-a12c-6d2eca2310ad",
   "metadata": {},
   "outputs": [
    {
     "data": {
      "text/plain": [
       "array([[ 0.045, -0.995, -0.088,  0.936, -0.028,  0.796],\n",
       "       [-0.04 ,  0.087, -0.995,  0.011, -0.83 , -0.073],\n",
       "       [ 0.998,  0.049, -0.036, -0.042,  0.902,  0.053],\n",
       "       [ 0.   ,  0.   ,  0.   ,  0.045, -0.995, -0.088],\n",
       "       [ 0.   ,  0.   ,  0.   , -0.04 ,  0.087, -0.995],\n",
       "       [ 0.   ,  0.   ,  0.   ,  0.998,  0.049, -0.036]])"
      ]
     },
     "execution_count": 33,
     "metadata": {},
     "output_type": "execute_result"
    }
   ],
   "source": [
    "X.toActionMatrix()"
   ]
  },
  {
   "cell_type": "code",
   "execution_count": 29,
   "id": "4038d887-aab5-4e13-a186-52d9c9b4012f",
   "metadata": {},
   "outputs": [
    {
     "data": {
      "text/plain": [
       "array([[ 0.045, -0.995, -0.088],\n",
       "       [-0.04 ,  0.087, -0.995],\n",
       "       [ 0.998,  0.049, -0.036]])"
      ]
     },
     "execution_count": 29,
     "metadata": {},
     "output_type": "execute_result"
    }
   ],
   "source": [
    "X.rotation"
   ]
  },
  {
   "cell_type": "code",
   "execution_count": 70,
   "id": "3be72638-8e9f-44bb-8e67-f370187a8f9d",
   "metadata": {},
   "outputs": [
    {
     "data": {
      "text/plain": [
       "array([[ 0.805, -0.511, -0.582, -0.082, -0.216, -0.029],\n",
       "       [-0.017,  0.574, -1.1  ,  0.051, -0.146, -0.18 ],\n",
       "       [ 0.774,  0.974,  0.424,  0.165,  0.089, -0.177],\n",
       "       [ 0.   ,  0.   ,  0.   ,  0.805, -0.511, -0.582],\n",
       "       [ 0.   ,  0.   ,  0.   , -0.017,  0.574, -1.1  ],\n",
       "       [ 0.   ,  0.   ,  0.   ,  0.774,  0.974,  0.424]])"
      ]
     },
     "execution_count": 70,
     "metadata": {},
     "output_type": "execute_result"
    }
   ],
   "source": [
    "pinocchio.Jlog6(rs.get_frame_pose(tcp))"
   ]
  },
  {
   "cell_type": "code",
   "execution_count": 19,
   "id": "f4118b14-2ab7-451e-a3b5-969e565e8196",
   "metadata": {},
   "outputs": [
    {
     "data": {
      "text/plain": [
       "array([[ 0.754, -0.679, -0.504,  0.25 ,  0.029,  0.627],\n",
       "       [ 0.413,  0.765, -0.719, -0.023, -0.204, -0.393],\n",
       "       [ 0.738,  0.475,  0.734, -0.442,  0.616,  0.024],\n",
       "       [ 0.   ,  0.   ,  0.   ,  0.754, -0.679, -0.504],\n",
       "       [ 0.   ,  0.   ,  0.   ,  0.413,  0.765, -0.719],\n",
       "       [ 0.   ,  0.   ,  0.   ,  0.738,  0.475,  0.734]])"
      ]
     },
     "execution_count": 19,
     "metadata": {},
     "output_type": "execute_result"
    }
   ],
   "source": [
    "pinocchio.Jlog6(X)"
   ]
  },
  {
   "cell_type": "code",
   "execution_count": 77,
   "id": "ff3640a8-29dc-4698-9886-5996a60e4407",
   "metadata": {},
   "outputs": [
    {
     "data": {
      "text/plain": [
       "array([[-0.024,  0.048, -0.388, ...,  0.   ,  0.   ,  0.   ],\n",
       "       [-0.358,  0.21 , -0.169, ...,  0.   ,  0.   ,  0.   ],\n",
       "       [-0.155,  0.075,  0.102, ...,  0.   ,  0.   ,  0.   ],\n",
       "       [ 0.601, -0.789,  0.123, ...,  0.   ,  0.   ,  0.   ],\n",
       "       [ 0.283,  0.358, -0.704, ...,  0.   ,  0.   ,  0.   ],\n",
       "       [-0.748, -0.499, -0.699, ...,  1.   ,  0.   ,  0.   ]], shape=(6, 9))"
      ]
     },
     "execution_count": 77,
     "metadata": {},
     "output_type": "execute_result"
    }
   ],
   "source": [
    "J_local"
   ]
  },
  {
   "cell_type": "code",
   "execution_count": 8,
   "id": "e12c8769-7e94-4653-a0da-183b579d8cdb",
   "metadata": {},
   "outputs": [
    {
     "data": {
      "text/plain": [
       "array([[ 0.819,  0.713, -0.184,  0.022,  0.006,  0.219],\n",
       "       [-0.698,  0.576, -0.826,  0.087,  0.125,  0.118],\n",
       "       [-0.235,  0.813,  0.756, -0.104, -0.2  ,  0.097],\n",
       "       [ 0.   ,  0.   ,  0.   ,  0.819,  0.713, -0.184],\n",
       "       [ 0.   ,  0.   ,  0.   , -0.698,  0.576, -0.826],\n",
       "       [ 0.   ,  0.   ,  0.   , -0.235,  0.813,  0.756]])"
      ]
     },
     "execution_count": 8,
     "metadata": {},
     "output_type": "execute_result"
    }
   ],
   "source": [
    "pinocchio.Jlog6(rs.get_frame_pose(tcp)) # jacs_left_right: Log(X) & Right Jacobians "
   ]
  },
  {
   "cell_type": "code",
   "execution_count": 25,
   "id": "5070a82b-bb22-4c69-a309-831fc4ec8b82",
   "metadata": {},
   "outputs": [
    {
     "data": {
      "text/plain": [
       "array([[ 0.819,  0.713, -0.184,  0.022,  0.006,  0.219],\n",
       "       [-0.698,  0.576, -0.826,  0.087,  0.125,  0.118],\n",
       "       [-0.235,  0.813,  0.756, -0.104, -0.2  ,  0.097],\n",
       "       [ 0.   ,  0.   ,  0.   ,  0.819,  0.713, -0.184],\n",
       "       [-0.   , -0.   , -0.   , -0.698,  0.576, -0.826],\n",
       "       [ 0.   ,  0.   ,  0.   , -0.235,  0.813,  0.756]])"
      ]
     },
     "execution_count": 25,
     "metadata": {},
     "output_type": "execute_result"
    }
   ],
   "source": [
    "np.linalg.inv(pinocchio.Jexp6(pinocchio.log6(rs.get_frame_pose(tcp))))"
   ]
  },
  {
   "cell_type": "code",
   "execution_count": 11,
   "id": "8f25e45d-fc0e-4288-8258-df24852d1f86",
   "metadata": {},
   "outputs": [],
   "source": [
    "motion = pinocchio.Motion.Random()"
   ]
  },
  {
   "cell_type": "code",
   "execution_count": 19,
   "id": "dfcd80d2-8927-42e7-958f-7161396731e0",
   "metadata": {},
   "outputs": [
    {
     "data": {
      "text/plain": [
       "array([[ 0.   ,  0.037,  0.829,  0.471],\n",
       "       [-0.037,  0.   , -0.098,  0.456],\n",
       "       [-0.829,  0.098,  0.   , -0.081],\n",
       "       [ 0.   ,  0.   ,  0.   ,  0.   ]])"
      ]
     },
     "execution_count": 19,
     "metadata": {},
     "output_type": "execute_result"
    }
   ],
   "source": [
    "motion.homogeneous"
   ]
  }
 ],
 "metadata": {
  "kernelspec": {
   "display_name": "Python 3 (ipykernel)",
   "language": "python",
   "name": "python3"
  },
  "language_info": {
   "codemirror_mode": {
    "name": "ipython",
    "version": 3
   },
   "file_extension": ".py",
   "mimetype": "text/x-python",
   "name": "python",
   "nbconvert_exporter": "python",
   "pygments_lexer": "ipython3",
   "version": "3.11.11"
  }
 },
 "nbformat": 4,
 "nbformat_minor": 5
}
